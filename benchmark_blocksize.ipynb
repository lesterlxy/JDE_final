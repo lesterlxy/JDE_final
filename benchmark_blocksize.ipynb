{
 "cells": [
  {
   "cell_type": "code",
   "execution_count": 5,
   "metadata": {},
   "outputs": [],
   "source": [
    "import time\n",
    "\n",
    "import dask.dataframe as dd\n",
    "import distributed\n",
    "\n",
    "CSV_PATH = r\".kaggle\\datasets\\martinellis\\nhl-game-data\\versions\\2\\game_plays.csv\"\n",
    "\n",
    "\n",
    "def benchmark_blocksize(block_size):\n",
    "    start_time = time.time()\n",
    "    # Read CSV with the current block size\n",
    "    df = dd.read_csv(CSV_PATH, blocksize=block_size, assume_missing=True)\n",
    "    # Perform some processing operations\n",
    "    aggregated_df = df.groupby(\"team_id_for\").agg({\"x\": \"mean\"})\n",
    "    # Compute results to trigger processing\n",
    "    aggregated_df.compute()\n",
    "    end_time = time.time()\n",
    "    return end_time - start_time"
   ]
  },
  {
   "cell_type": "code",
   "execution_count": null,
   "metadata": {},
   "outputs": [],
   "source": [
    "distributed.Client()"
   ]
  },
  {
   "cell_type": "code",
   "execution_count": null,
   "metadata": {},
   "outputs": [],
   "source": [
    "block_sizes = [\"8MB\", \"16MB\", \"32MB\", \"64MB\", \"128MB\"]\n",
    "results = {}\n",
    "for bs in block_sizes:\n",
    "    runtime = benchmark_blocksize(bs)\n",
    "    results[bs] = runtime\n",
    "results"
   ]
  },
  {
   "cell_type": "code",
   "execution_count": null,
   "metadata": {},
   "outputs": [],
   "source": [
    "optimal_bs = min(results.items(), key=lambda x: x[1])[0]\n",
    "print(f\"Optimal block size is {optimal_bs} with runtime {results[optimal_bs]} seconds.\")"
   ]
  }
 ],
 "metadata": {
  "kernelspec": {
   "display_name": ".venv",
   "language": "python",
   "name": "python3"
  },
  "language_info": {
   "codemirror_mode": {
    "name": "ipython",
    "version": 3
   },
   "file_extension": ".py",
   "mimetype": "text/x-python",
   "name": "python",
   "nbconvert_exporter": "python",
   "pygments_lexer": "ipython3",
   "version": "3.12.7"
  }
 },
 "nbformat": 4,
 "nbformat_minor": 2
}
