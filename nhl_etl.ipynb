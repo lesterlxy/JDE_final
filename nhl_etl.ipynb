{
 "cells": [
  {
   "cell_type": "markdown",
   "metadata": {},
   "source": [
    "# Setup\n"
   ]
  },
  {
   "cell_type": "code",
   "execution_count": null,
   "metadata": {
    "id": "j6vgaiLGPpxc"
   },
   "outputs": [],
   "source": [
    "import os\n",
    "\n",
    "import pandas as pd\n",
    "from dask import dataframe as dd\n",
    "from dotenv import load_dotenv\n",
    "\n",
    "# directory where you extracted the nhl dataset from\n",
    "# https://www.kaggle.com/datasets/martinellis/nhl-game-data\n",
    "DATA_DIR = \"./nhl_archive\"\n",
    "# name of the environment variable stored in ./.env for your sql uri\n",
    "ENV_SQL_URI = \"URI_PG\"\n",
    "# chunksize for to_sql. reduce value if you run out of memory\n",
    "CHUNKSIZE = 5000\n",
    "\n",
    "# load environment variables from ./.env\n",
    "load_dotenv()"
   ]
  },
  {
   "cell_type": "markdown",
   "metadata": {},
   "source": [
    "# Extract\n"
   ]
  },
  {
   "cell_type": "code",
   "execution_count": 2,
   "metadata": {
    "tags": [
     "hide-input"
    ]
   },
   "outputs": [],
   "source": [
    "# define column dtypes for each file\n",
    "\n",
    "# dtype shortcuts\n",
    "DTYPE_BOOL = \"bool[pyarrow]\"\n",
    "DTYPE_INT = \"int64[pyarrow]\"  # note that pyarrow ints are nullable\n",
    "DTYPE_FLOAT = \"float64[pyarrow]\"\n",
    "DTYPE_STRING = \"string[pyarrow]\"\n",
    "DTYPE_DATETIME = \"timestamp[ms][pyarrow]\"\n",
    "\n",
    "# full definitions\n",
    "dtype_defs = {}\n",
    "dtype_defs[\"game.csv\"] = {\n",
    "    \"game_id\": DTYPE_INT,\n",
    "    \"season\": DTYPE_INT,\n",
    "    \"type\": DTYPE_STRING,\n",
    "    \"date_time_GMT\": DTYPE_DATETIME,\n",
    "    \"away_team_id\": DTYPE_INT,\n",
    "    \"home_team_id\": DTYPE_INT,\n",
    "    \"away_goals\": DTYPE_INT,\n",
    "    \"home_goals\": DTYPE_INT,\n",
    "    \"outcome\": DTYPE_STRING,\n",
    "    \"home_rink_side_start\": DTYPE_STRING,\n",
    "    \"venue\": DTYPE_STRING,\n",
    "    \"venue_link\": DTYPE_STRING,\n",
    "    \"venue_time_zone_id\": DTYPE_STRING,\n",
    "    \"venue_time_zone_offset\": DTYPE_INT,\n",
    "    \"venue_time_zone_tz\": DTYPE_STRING,\n",
    "}\n",
    "dtype_defs[\"game_goalie_stats.csv\"] = {\n",
    "    \"game_id\": DTYPE_INT,\n",
    "    \"player_id\": DTYPE_INT,\n",
    "    \"team_id\": DTYPE_INT,\n",
    "    \"timeOnIce\": DTYPE_INT,\n",
    "    \"assists\": DTYPE_INT,\n",
    "    \"goals\": DTYPE_INT,\n",
    "    \"pim\": DTYPE_INT,\n",
    "    \"shots\": DTYPE_INT,\n",
    "    \"saves\": DTYPE_INT,\n",
    "    \"powerPlaySaves\": DTYPE_INT,\n",
    "    \"shortHandedSaves\": DTYPE_INT,\n",
    "    \"evenSaves\": DTYPE_INT,\n",
    "    \"shortHandedShotsAgainst\": DTYPE_INT,\n",
    "    \"evenShotsAgainst\": DTYPE_INT,\n",
    "    \"powerPlayShotsAgainst\": DTYPE_INT,\n",
    "    \"decision\": DTYPE_STRING,\n",
    "    \"savePercentage\": DTYPE_FLOAT,\n",
    "    \"powerPlaySavePercentage\": DTYPE_FLOAT,\n",
    "    \"evenStrengthSavePercentage\": DTYPE_FLOAT,\n",
    "}\n",
    "dtype_defs[\"game_goals.csv\"] = {\n",
    "    \"play_id\": DTYPE_STRING,\n",
    "    \"strength\": DTYPE_STRING,\n",
    "    \"gameWinningGoal\": DTYPE_BOOL,\n",
    "    \"emptyNet\": DTYPE_BOOL,\n",
    "}\n",
    "dtype_defs[\"game_officials.csv\"] = {\n",
    "    \"game_id\": DTYPE_INT,\n",
    "    \"official_name\": DTYPE_STRING,\n",
    "    \"official_type\": DTYPE_STRING,\n",
    "}\n",
    "dtype_defs[\"game_penalties.csv\"] = {\n",
    "    \"play_id\": DTYPE_STRING,\n",
    "    \"penaltySeverity\": DTYPE_STRING,\n",
    "    \"penaltyMinutes\": DTYPE_INT,\n",
    "}\n",
    "dtype_defs[\"game_plays.csv\"] = {\n",
    "    \"play_id\": DTYPE_STRING,\n",
    "    \"game_id\": DTYPE_INT,\n",
    "    \"team_id_for\": DTYPE_INT,\n",
    "    \"team_id_against\": DTYPE_INT,\n",
    "    \"event\": DTYPE_STRING,\n",
    "    \"secondaryType\": DTYPE_STRING,\n",
    "    \"x\": DTYPE_INT,\n",
    "    \"y\": DTYPE_INT,\n",
    "    \"period\": DTYPE_INT,\n",
    "    \"periodType\": DTYPE_STRING,\n",
    "    \"periodTime\": DTYPE_INT,\n",
    "    \"periodTimeRemaining\": DTYPE_INT,\n",
    "    \"dateTime\": DTYPE_DATETIME,\n",
    "    \"goals_away\": DTYPE_INT,\n",
    "    \"goals_home\": DTYPE_INT,\n",
    "    \"description\": DTYPE_STRING,\n",
    "    \"st_x\": DTYPE_INT,\n",
    "    \"st_y\": DTYPE_INT,\n",
    "}\n",
    "dtype_defs[\"game_plays_players.csv\"] = {\n",
    "    \"play_id\": DTYPE_STRING,\n",
    "    \"game_id\": DTYPE_INT,\n",
    "    \"player_id\": DTYPE_INT,\n",
    "    \"playerType\": DTYPE_STRING,\n",
    "}\n",
    "dtype_defs[\"game_scratches.csv\"] = {\n",
    "    \"game_id\": DTYPE_INT,\n",
    "    \"team_id\": DTYPE_INT,\n",
    "    \"player_id\": DTYPE_INT,\n",
    "}\n",
    "dtype_defs[\"game_shifts.csv\"] = {\n",
    "    \"game_id\": DTYPE_INT,\n",
    "    \"player_id\": DTYPE_INT,\n",
    "    \"period\": DTYPE_INT,\n",
    "    \"shift_start\": DTYPE_INT,\n",
    "    \"shift_end\": DTYPE_INT,\n",
    "}\n",
    "dtype_defs[\"game_skater_stats.csv\"] = {\n",
    "    \"game_id\": DTYPE_INT,\n",
    "    \"player_id\": DTYPE_INT,\n",
    "    \"team_id\": DTYPE_INT,\n",
    "    \"timeOnIce\": DTYPE_INT,\n",
    "    \"assists\": DTYPE_INT,\n",
    "    \"goals\": DTYPE_INT,\n",
    "    \"shots\": DTYPE_INT,\n",
    "    \"hits\": DTYPE_INT,\n",
    "    \"powerPlayGoals\": DTYPE_INT,\n",
    "    \"powerPlayAssists\": DTYPE_INT,\n",
    "    \"penaltyMinutes\": DTYPE_INT,\n",
    "    \"faceOffWins\": DTYPE_INT,\n",
    "    \"faceoffTaken\": DTYPE_INT,\n",
    "    \"takeaways\": DTYPE_INT,\n",
    "    \"giveaways\": DTYPE_INT,\n",
    "    \"shortHandedGoals\": DTYPE_INT,\n",
    "    \"shortHandedAssists\": DTYPE_INT,\n",
    "    \"blocked\": DTYPE_INT,\n",
    "    \"plusMinus\": DTYPE_INT,\n",
    "    \"evenTimeOnIce\": DTYPE_INT,\n",
    "    \"shortHandedTimeOnIce\": DTYPE_INT,\n",
    "    \"powerPlayTimeOnIce\": DTYPE_INT,\n",
    "}\n",
    "dtype_defs[\"game_teams_stats.csv\"] = {\n",
    "    \"game_id\": DTYPE_INT,\n",
    "    \"team_id\": DTYPE_INT,\n",
    "    \"HoA\": DTYPE_STRING,\n",
    "    \"won\": \"bool\",\n",
    "    \"settled_in\": DTYPE_STRING,\n",
    "    \"head_coach\": DTYPE_STRING,\n",
    "    \"goals\": DTYPE_INT,\n",
    "    \"shots\": DTYPE_INT,\n",
    "    \"hits\": DTYPE_INT,\n",
    "    \"pim\": DTYPE_INT,\n",
    "    \"powerPlayOpportunities\": DTYPE_INT,\n",
    "    \"powerPlayGoals\": DTYPE_INT,\n",
    "    \"faceOffWinPercentage\": DTYPE_FLOAT,\n",
    "    \"giveaways\": DTYPE_INT,\n",
    "    \"takeaways\": DTYPE_INT,\n",
    "    \"blocked\": DTYPE_INT,\n",
    "    \"startRinkSide\": DTYPE_STRING,\n",
    "}\n",
    "dtype_defs[\"player_info.csv\"] = {\n",
    "    \"player_id\": DTYPE_INT,\n",
    "    \"firstName\": DTYPE_STRING,\n",
    "    \"lastName\": DTYPE_STRING,\n",
    "    \"nationality\": DTYPE_STRING,\n",
    "    \"birthCity\": DTYPE_STRING,\n",
    "    \"primaryPosition\": DTYPE_STRING,\n",
    "    \"birthDate\": DTYPE_DATETIME,\n",
    "    \"birthStateProvince\": DTYPE_STRING,\n",
    "    \"height\": DTYPE_STRING,\n",
    "    \"height_cm\": DTYPE_FLOAT,\n",
    "    \"weight\": DTYPE_INT,\n",
    "    \"shootsCatches\": DTYPE_STRING,\n",
    "}\n",
    "dtype_defs[\"team_info.csv\"] = {\n",
    "    \"team_id\": DTYPE_INT,\n",
    "    \"franchiseId\": DTYPE_INT,\n",
    "    \"shortName\": DTYPE_STRING,\n",
    "    \"teamName\": DTYPE_STRING,\n",
    "    \"abbreviation\": DTYPE_STRING,\n",
    "    \"link\": DTYPE_STRING,\n",
    "}"
   ]
  },
  {
   "cell_type": "code",
   "execution_count": null,
   "metadata": {
    "colab": {
     "base_uri": "https://localhost:8080/"
    },
    "id": "HZint-P3TbkH",
    "outputId": "b1571a3b-dc0b-4d33-b672-bce2f553e30e"
   },
   "outputs": [],
   "source": [
    "# read all csv files from data directory\n",
    "dfs: dict[str, pd.DataFrame] = {}\n",
    "for n in os.listdir(DATA_DIR):\n",
    "    if n.endswith(\".csv\"):\n",
    "        if n in dtype_defs:\n",
    "            print(f\"✅ reading {n} with dtypes\")\n",
    "            fpath = os.path.join(DATA_DIR, n)\n",
    "            dfs[n.split(\".\")[0]] = dd.read_csv(fpath, dtype=dtype_defs[n])  # type: ignore\n",
    "        else:\n",
    "            print(f\"❌ reading {n} without dtypes\")\n",
    "            dfs[n.split(\".\")[0]] = dd.read_csv(os.path.join(DATA_DIR, n))  # type: ignore"
   ]
  },
  {
   "cell_type": "code",
   "execution_count": 4,
   "metadata": {
    "colab": {
     "base_uri": "https://localhost:8080/"
    },
    "id": "Qc3UW3wMaXit",
    "outputId": "eefa358e-b561-4ddc-aa73-9ec65748483b"
   },
   "outputs": [],
   "source": [
    "# compute to verify types are compatible\n",
    "# don't need to run this once types are finalized\n",
    "\n",
    "# for n in dfs:\n",
    "#     try:\n",
    "#         dfs[n].compute()  # type: ignore\n",
    "#         print(f\"✅ {n} passed compute\")\n",
    "#     except Exception as e:\n",
    "#         print(f\"❌ {n} did not pass compute due to:\")\n",
    "#         print(e)"
   ]
  },
  {
   "cell_type": "markdown",
   "metadata": {},
   "source": [
    "# Transform\n"
   ]
  },
  {
   "cell_type": "markdown",
   "metadata": {},
   "source": [
    "## Drop duplicate rows\n"
   ]
  },
  {
   "cell_type": "code",
   "execution_count": null,
   "metadata": {},
   "outputs": [],
   "source": [
    "def drop_duplicates(df: pd.DataFrame, subset: str) -> pd.DataFrame:\n",
    "    \"\"\"Drop duplicates and return the dataframe\"\"\"\n",
    "    rows_before = df.shape[0].compute()  # type: ignore\n",
    "    df = df.drop_duplicates(subset=subset)\n",
    "    rows_after = df.shape[0].compute()  # type: ignore\n",
    "    display(f\"dropped {rows_before-rows_after} rows using {subset}\")\n",
    "    return df\n",
    "\n",
    "\n",
    "# I have verified that data with the same key are duplicate rows\n",
    "dfs[\"game\"] = drop_duplicates(dfs[\"game\"], \"game_id\")\n",
    "dfs[\"game_plays\"] = drop_duplicates(dfs[\"game_plays\"], \"play_id\")\n",
    "dfs[\"player_info\"] = drop_duplicates(dfs[\"player_info\"], \"player_id\")\n",
    "dfs[\"team_info\"] = drop_duplicates(dfs[\"team_info\"], \"team_id\")"
   ]
  },
  {
   "cell_type": "markdown",
   "metadata": {},
   "source": [
    "## Drop unreferenced data\n"
   ]
  },
  {
   "cell_type": "code",
   "execution_count": null,
   "metadata": {},
   "outputs": [],
   "source": [
    "# Drop unreferenced data that is unrecoverable\n",
    "def drop_unreferenced(\n",
    "    df_foreign: pd.DataFrame,\n",
    "    df_foreign_col: str,\n",
    "    df_primary: pd.DataFrame,\n",
    "    df_primary_col: str,\n",
    ") -> pd.DataFrame:\n",
    "    \"\"\"Drop unreferenced keys and returns the dataframe\"\"\"\n",
    "    rows_before = df_foreign.shape[0].compute()  # type: ignore\n",
    "    df_foreign = df_foreign[\n",
    "        df_foreign[df_foreign_col].isin(df_primary[df_primary_col].unique())\n",
    "    ]\n",
    "    rows_after = df_foreign.shape[0].compute()  # type: ignore\n",
    "    display(f\"dropped {rows_before-rows_after} rows\")\n",
    "    return df_foreign\n",
    "\n",
    "\n",
    "dfs[\"game_goalie_stats\"] = drop_unreferenced(\n",
    "    dfs[\"game_goalie_stats\"], \"team_id\", dfs[\"team_info\"], \"team_id\"\n",
    ")\n",
    "# TODO: check for more instances of unreferenced data"
   ]
  },
  {
   "cell_type": "markdown",
   "metadata": {},
   "source": [
    "# Load\n"
   ]
  },
  {
   "cell_type": "code",
   "execution_count": null,
   "metadata": {
    "id": "lfRKIodLEbx3"
   },
   "outputs": [],
   "source": [
    "# load the tables into an sql server\n",
    "# note that it takes about an hour due to data size\n",
    "uri = os.getenv(ENV_SQL_URI)  # credentials\n",
    "if not uri:\n",
    "    raise ValueError(\"uri not defined\")\n",
    "for k in dfs:\n",
    "    display(k)\n",
    "    # note that to_sql in dask only accepts a uri string for the connection\n",
    "    dfs[k].to_sql(\n",
    "        k, uri, index=False, if_exists=\"replace\", chunksize=CHUNKSIZE, method=\"multi\"\n",
    "    )"
   ]
  }
 ],
 "metadata": {
  "colab": {
   "provenance": []
  },
  "kernelspec": {
   "display_name": ".venv",
   "language": "python",
   "name": "python3"
  },
  "language_info": {
   "codemirror_mode": {
    "name": "ipython",
    "version": 3
   },
   "file_extension": ".py",
   "mimetype": "text/x-python",
   "name": "python",
   "nbconvert_exporter": "python",
   "pygments_lexer": "ipython3",
   "version": "3.12.7"
  }
 },
 "nbformat": 4,
 "nbformat_minor": 0
}
