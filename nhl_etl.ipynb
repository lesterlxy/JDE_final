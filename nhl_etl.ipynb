{
 "cells": [
  {
   "cell_type": "markdown",
   "metadata": {},
   "source": [
    "# Setup"
   ]
  },
  {
   "cell_type": "code",
   "execution_count": null,
   "metadata": {
    "id": "j6vgaiLGPpxc"
   },
   "outputs": [],
   "source": [
    "import os\n",
    "from zipfile import ZipFile\n",
    "\n",
    "import pandas as pd\n",
    "import sqlalchemy\n",
    "from dotenv import load_dotenv"
   ]
  },
  {
   "cell_type": "code",
   "execution_count": null,
   "metadata": {},
   "outputs": [],
   "source": [
    "# load environment variables from ./.env\n",
    "load_dotenv()"
   ]
  },
  {
   "cell_type": "markdown",
   "metadata": {},
   "source": [
    "# Extract"
   ]
  },
  {
   "cell_type": "code",
   "execution_count": null,
   "metadata": {
    "colab": {
     "base_uri": "https://localhost:8080/"
    },
    "id": "HZint-P3TbkH",
    "outputId": "b1571a3b-dc0b-4d33-b672-bce2f553e30e"
   },
   "outputs": [],
   "source": [
    "# open the zip as downloaded from:\n",
    "# https://www.kaggle.com/datasets/martinellis/nhl-game-data\n",
    "zf = ZipFile(\"./nhl_archive.zip\")\n",
    "dfs: dict[str, pd.DataFrame] = {}\n",
    "for n in zf.namelist():\n",
    "    if n.endswith(\".csv\"):\n",
    "        dfs[n.split(\".\")[0]] = pd.read_csv(zf.open(n))\n",
    "zf.close()"
   ]
  },
  {
   "cell_type": "code",
   "execution_count": null,
   "metadata": {
    "colab": {
     "base_uri": "https://localhost:8080/"
    },
    "id": "Qc3UW3wMaXit",
    "outputId": "eefa358e-b561-4ddc-aa73-9ec65748483b"
   },
   "outputs": [],
   "source": [
    "dfs.keys()"
   ]
  },
  {
   "cell_type": "markdown",
   "metadata": {},
   "source": [
    "# Transform"
   ]
  },
  {
   "cell_type": "code",
   "execution_count": null,
   "metadata": {},
   "outputs": [],
   "source": [
    "# drop duplicate rows\n",
    "def drop_duplicates(df: pd.DataFrame, subset: str) -> None:\n",
    "    rows_before = len(df)\n",
    "    df.drop_duplicates(subset=subset, inplace=True)\n",
    "    rows_after = len(df)\n",
    "    display(f\"dropped {rows_before-rows_after} rows using {subset}\")\n",
    "\n",
    "\n",
    "# I have verified that data with the same key are duplicate rows\n",
    "drop_duplicates(dfs[\"game\"], \"game_id\")\n",
    "drop_duplicates(dfs[\"game_plays\"], \"play_id\")\n",
    "drop_duplicates(dfs[\"player_info\"], \"player_id\")\n",
    "drop_duplicates(dfs[\"team_info\"], \"team_id\")"
   ]
  },
  {
   "cell_type": "markdown",
   "metadata": {},
   "source": [
    "# Load"
   ]
  },
  {
   "cell_type": "code",
   "execution_count": null,
   "metadata": {
    "id": "lfRKIodLEbx3"
   },
   "outputs": [],
   "source": [
    "# load the tables into an sql server\n",
    "# note that it takes about an hour due to data size\n",
    "uri = os.getenv(\"URI_PG\")  # credentials\n",
    "if uri:\n",
    "    alchemyEngine = sqlalchemy.create_engine(uri)\n",
    "else:\n",
    "    raise TypeError(\"uri not defined\")\n",
    "dbConnection = alchemyEngine.connect()\n",
    "for k in dfs:\n",
    "    display(k)\n",
    "    # NOTE: reduce chunksize if you run out of memory\n",
    "    dfs[k].to_sql(k, dbConnection, if_exists=\"replace\", chunksize=5000, method=\"multi\")\n",
    "dbConnection.close()"
   ]
  }
 ],
 "metadata": {
  "colab": {
   "provenance": []
  },
  "kernelspec": {
   "display_name": ".venv",
   "language": "python",
   "name": "python3"
  },
  "language_info": {
   "codemirror_mode": {
    "name": "ipython",
    "version": 3
   },
   "file_extension": ".py",
   "mimetype": "text/x-python",
   "name": "python",
   "nbconvert_exporter": "python",
   "pygments_lexer": "ipython3",
   "version": "3.12.7"
  }
 },
 "nbformat": 4,
 "nbformat_minor": 0
}
